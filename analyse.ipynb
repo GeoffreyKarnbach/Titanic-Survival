{
 "cells": [
  {
   "cell_type": "markdown",
   "metadata": {},
   "source": [
    "## <u>Preface:</u>\n",
    "\n",
    "The goal of this jupyter notebook is to find some concrete \"criterias\", that strongly influence the probability for a passenger to survive.\n",
    "With those criterias and paired with a tensorflow model, the goal is to determine, wether or not a given person would survive the titanic accident.\n",
    "\n",
    "The training data set was provided from kaggle: https://www.kaggle.com/competitions/titanic\n",
    "\n",
    "<u><strong>TODO: Clean documentation</u></strong>\n",
    "\n",
    "For every \"section\" (idealy about 15/20 different criterias):\n",
    "- Introductory paragraph with base theory or hypothesis (eventually based on historical facts)\n",
    "- Computations with pandas/numpy to check theory\n",
    "- Conclusion: were we right/wrong -> possible explanation\n",
    "- Link to other similar/related sections\n",
    "\n",
    "Conclusion section:\n",
    "- List all major found criterias, no further need to explain them, more of a listing, with concrete \"facts\"/values, that can be used for prediction algorithm\n",
    "- Explanation, how to resume the criterias (with each one having a score for relevance: higher -> more important criteria)"
   ]
  },
  {
   "cell_type": "code",
   "execution_count": 80,
   "metadata": {},
   "outputs": [],
   "source": [
    "import numpy as np\n",
    "import pandas as pd\n",
    "import matplotlib.pyplot as plt"
   ]
  },
  {
   "cell_type": "code",
   "execution_count": 81,
   "metadata": {},
   "outputs": [],
   "source": [
    "# Helper Functions\n",
    "def toPercent(value):\n",
    "    return round(round(value,3)*100,1)\n",
    "\n",
    "def size(value):\n",
    "    return value.shape[0]"
   ]
  },
  {
   "cell_type": "code",
   "execution_count": 82,
   "metadata": {},
   "outputs": [
    {
     "data": {
      "text/html": [
       "<div>\n",
       "<style scoped>\n",
       "    .dataframe tbody tr th:only-of-type {\n",
       "        vertical-align: middle;\n",
       "    }\n",
       "\n",
       "    .dataframe tbody tr th {\n",
       "        vertical-align: top;\n",
       "    }\n",
       "\n",
       "    .dataframe thead th {\n",
       "        text-align: right;\n",
       "    }\n",
       "</style>\n",
       "<table border=\"1\" class=\"dataframe\">\n",
       "  <thead>\n",
       "    <tr style=\"text-align: right;\">\n",
       "      <th></th>\n",
       "      <th>PassengerId</th>\n",
       "      <th>Survived</th>\n",
       "      <th>Pclass</th>\n",
       "      <th>Name</th>\n",
       "      <th>Sex</th>\n",
       "      <th>Age</th>\n",
       "      <th>SibSp</th>\n",
       "      <th>Parch</th>\n",
       "      <th>Ticket</th>\n",
       "      <th>Fare</th>\n",
       "      <th>Cabin</th>\n",
       "      <th>Embarked</th>\n",
       "    </tr>\n",
       "  </thead>\n",
       "  <tbody>\n",
       "    <tr>\n",
       "      <th>0</th>\n",
       "      <td>1</td>\n",
       "      <td>0</td>\n",
       "      <td>3</td>\n",
       "      <td>Braund, Mr. Owen Harris</td>\n",
       "      <td>male</td>\n",
       "      <td>22.0</td>\n",
       "      <td>1</td>\n",
       "      <td>0</td>\n",
       "      <td>A/5 21171</td>\n",
       "      <td>7.2500</td>\n",
       "      <td>NaN</td>\n",
       "      <td>S</td>\n",
       "    </tr>\n",
       "    <tr>\n",
       "      <th>1</th>\n",
       "      <td>2</td>\n",
       "      <td>1</td>\n",
       "      <td>1</td>\n",
       "      <td>Cumings, Mrs. John Bradley (Florence Briggs Th...</td>\n",
       "      <td>female</td>\n",
       "      <td>38.0</td>\n",
       "      <td>1</td>\n",
       "      <td>0</td>\n",
       "      <td>PC 17599</td>\n",
       "      <td>71.2833</td>\n",
       "      <td>C85</td>\n",
       "      <td>C</td>\n",
       "    </tr>\n",
       "    <tr>\n",
       "      <th>2</th>\n",
       "      <td>3</td>\n",
       "      <td>1</td>\n",
       "      <td>3</td>\n",
       "      <td>Heikkinen, Miss. Laina</td>\n",
       "      <td>female</td>\n",
       "      <td>26.0</td>\n",
       "      <td>0</td>\n",
       "      <td>0</td>\n",
       "      <td>STON/O2. 3101282</td>\n",
       "      <td>7.9250</td>\n",
       "      <td>NaN</td>\n",
       "      <td>S</td>\n",
       "    </tr>\n",
       "    <tr>\n",
       "      <th>3</th>\n",
       "      <td>4</td>\n",
       "      <td>1</td>\n",
       "      <td>1</td>\n",
       "      <td>Futrelle, Mrs. Jacques Heath (Lily May Peel)</td>\n",
       "      <td>female</td>\n",
       "      <td>35.0</td>\n",
       "      <td>1</td>\n",
       "      <td>0</td>\n",
       "      <td>113803</td>\n",
       "      <td>53.1000</td>\n",
       "      <td>C123</td>\n",
       "      <td>S</td>\n",
       "    </tr>\n",
       "    <tr>\n",
       "      <th>4</th>\n",
       "      <td>5</td>\n",
       "      <td>0</td>\n",
       "      <td>3</td>\n",
       "      <td>Allen, Mr. William Henry</td>\n",
       "      <td>male</td>\n",
       "      <td>35.0</td>\n",
       "      <td>0</td>\n",
       "      <td>0</td>\n",
       "      <td>373450</td>\n",
       "      <td>8.0500</td>\n",
       "      <td>NaN</td>\n",
       "      <td>S</td>\n",
       "    </tr>\n",
       "  </tbody>\n",
       "</table>\n",
       "</div>"
      ],
      "text/plain": [
       "   PassengerId  Survived  Pclass  \\\n",
       "0            1         0       3   \n",
       "1            2         1       1   \n",
       "2            3         1       3   \n",
       "3            4         1       1   \n",
       "4            5         0       3   \n",
       "\n",
       "                                                Name     Sex   Age  SibSp  \\\n",
       "0                            Braund, Mr. Owen Harris    male  22.0      1   \n",
       "1  Cumings, Mrs. John Bradley (Florence Briggs Th...  female  38.0      1   \n",
       "2                             Heikkinen, Miss. Laina  female  26.0      0   \n",
       "3       Futrelle, Mrs. Jacques Heath (Lily May Peel)  female  35.0      1   \n",
       "4                           Allen, Mr. William Henry    male  35.0      0   \n",
       "\n",
       "   Parch            Ticket     Fare Cabin Embarked  \n",
       "0      0         A/5 21171   7.2500   NaN        S  \n",
       "1      0          PC 17599  71.2833   C85        C  \n",
       "2      0  STON/O2. 3101282   7.9250   NaN        S  \n",
       "3      0            113803  53.1000  C123        S  \n",
       "4      0            373450   8.0500   NaN        S  "
      ]
     },
     "execution_count": 82,
     "metadata": {},
     "output_type": "execute_result"
    }
   ],
   "source": [
    "file = \"Data/train.csv\"\n",
    "\n",
    "df = pd.read_csv(file, sep = \",\")\n",
    "df.head()"
   ]
  },
  {
   "cell_type": "markdown",
   "metadata": {},
   "source": [
    "#### <u>Criteria List:</u>\n",
    "\n",
    "- PassengerId (should not be relevant for the analysis)\n",
    "- Ticket Number (probably no correlation with survival probability)<br>\n",
    "<br>\n",
    "- [Passenger Class (First, Second, Third)](#udoes-the-passenger-class-influence-the-odd-of-survivingu)\n",
    "- [Sex](#u-did-gender-influence-your-odd-of-survivingu)\n",
    "- [Age](#u-does-the-age-of-a-passenger-influence-its-survival-oddu)\n",
    "- [Number of siblings/spouses on Titanic](#udid-traveling-alone-increase-your-survival-rateu)\n",
    "- [Number of parents/children on Titanic](#udid-traveling-alone-increase-your-survival-rateu)\n",
    "- Fare (Price paid)\n",
    "- Cabin Number (Not always existent)\n",
    "- Embarkation Port (C = Cherbourg, Q = Queenstown, S = Southampton)\n",
    "\n",
    "For each of the given criterias, there will be a statistical analysis and afterwards a possible explanation for that outcome.\n",
    "\n",
    "Although all of those criterias can be seen individualy, it makes sense to combine some of then additionaly, as for example:\n",
    "- Age and gender (to take into account male and female children)\n",
    "\n",
    "From a historical point of view, we know for example that people from first and second class had a shorter  \"way\" to the rescue boats. Those additional thoughts will be analysed in a separate paragraph at the end."
   ]
  },
  {
   "cell_type": "markdown",
   "metadata": {},
   "source": [
    "##### <u>Basic Information</u>"
   ]
  },
  {
   "cell_type": "code",
   "execution_count": 83,
   "metadata": {},
   "outputs": [
    {
     "name": "stdout",
     "output_type": "stream",
     "text": [
      "Total passengers: 891\n",
      "Passengers Survived: 342\n",
      "Passengers Dead: 549\n",
      "Survival rate: 38.4%\n"
     ]
    }
   ],
   "source": [
    "totalPassengers = size(df)\n",
    "\n",
    "passengersDead = df[df[\"Survived\"] == 0]\n",
    "passengersAlive = df[df[\"Survived\"] == 1]\n",
    "\n",
    "print(f\"Total passengers: {totalPassengers}\\nPassengers Survived: {size(passengersAlive)}\\nPassengers Dead: {size(passengersDead)}\\nSurvival rate: {toPercent(size(passengersAlive)/totalPassengers)}%\")"
   ]
  },
  {
   "cell_type": "markdown",
   "metadata": {},
   "source": [
    "##### <u>Does the passenger class influence the odd of surviving?</u>"
   ]
  },
  {
   "cell_type": "markdown",
   "metadata": {},
   "source": [
    "The Titanic was divided into three classes:\n",
    "- The first class (Premium Class)\n",
    "- The second class (Buisness Class)\n",
    "- The third class (Economy Class)\n",
    "\n",
    "The ticket prize for \"lower\" classes was way higher, therefore the first class was mainly occupied by \"rich\" passengers. It is historicaly known that the first and second class were separated from the third class to prevent the \"spread of infections\".\n",
    "\n",
    "With those two facts, it would make sense, that passengers in first (and second) class would have higher survival chances:"
   ]
  },
  {
   "cell_type": "code",
   "execution_count": 84,
   "metadata": {},
   "outputs": [
    {
     "name": "stdout",
     "output_type": "stream",
     "text": [
      "First class: 216\n",
      "Second class: 184\n",
      "Third class: 491\n",
      "Total: 891\n"
     ]
    }
   ],
   "source": [
    "firstClass= df[df.Pclass == 1]\n",
    "secondClass = df[df.Pclass == 2]\n",
    "thirdClass = df[df.Pclass == 3]\n",
    "\n",
    "print(f\"First class: {size(firstClass)}\\nSecond class: {size(secondClass)}\\nThird class: {size(thirdClass)}\\nTotal: {totalPassengers}\")"
   ]
  },
  {
   "cell_type": "markdown",
   "metadata": {},
   "source": [
    "First class survival ratio:"
   ]
  },
  {
   "cell_type": "code",
   "execution_count": 85,
   "metadata": {},
   "outputs": [
    {
     "name": "stdout",
     "output_type": "stream",
     "text": [
      "First class died: 80\n",
      "First class survived: 136\n",
      "Survival Ratio: 63.0%\n"
     ]
    }
   ],
   "source": [
    "firstClassDead = df[(df[\"Pclass\"] == 1) & (df[\"Survived\"] == 0)]\n",
    "firstClassAlive = df[(df[\"Pclass\"] == 1) & (df[\"Survived\"] == 1)]\n",
    "firstClassSurvivalRatio = size(firstClassAlive)/size(firstClass)\n",
    "\n",
    "print(f\"First class died: {size(firstClassDead)}\\nFirst class survived: {size(firstClassAlive)}\\nSurvival Ratio: {toPercent(firstClassSurvivalRatio)}%\")"
   ]
  },
  {
   "cell_type": "markdown",
   "metadata": {},
   "source": [
    "Second class survival ratio:"
   ]
  },
  {
   "cell_type": "code",
   "execution_count": 86,
   "metadata": {},
   "outputs": [
    {
     "name": "stdout",
     "output_type": "stream",
     "text": [
      "Second class died: 97\n",
      "Second class survived: 87\n",
      "Survival Ratio: 47.3%\n"
     ]
    }
   ],
   "source": [
    "secondClassDead = df[(df[\"Pclass\"] == 2) & (df[\"Survived\"] == 0)]\n",
    "secondClassAlive = df[(df[\"Pclass\"] == 2) & (df[\"Survived\"] == 1)]\n",
    "secondClassSurvivalRatio = size(secondClassAlive)/size(secondClass)\n",
    "\n",
    "print(f\"Second class died: {size(secondClassDead)}\\nSecond class survived: {size(secondClassAlive)}\\nSurvival Ratio: {toPercent(secondClassSurvivalRatio)}%\")"
   ]
  },
  {
   "cell_type": "markdown",
   "metadata": {},
   "source": [
    "Third class survival ratio:"
   ]
  },
  {
   "cell_type": "code",
   "execution_count": 87,
   "metadata": {},
   "outputs": [
    {
     "name": "stdout",
     "output_type": "stream",
     "text": [
      "Third class died: 372\n",
      "Third class survived: 119\n",
      "Survival Ratio: 24.2%\n"
     ]
    }
   ],
   "source": [
    "thirdClassDead = df[(df[\"Pclass\"] == 3) & (df[\"Survived\"] == 0)]\n",
    "thirdClassAlive = df[(df[\"Pclass\"] == 3) & (df[\"Survived\"] == 1)]\n",
    "thirdClassSurvivalRatio = size(thirdClassAlive)/size(thirdClass)\n",
    "\n",
    "print(f\"Third class died: {size(thirdClassDead)}\\nThird class survived: {size(thirdClassAlive)}\\nSurvival Ratio: {toPercent(thirdClassSurvivalRatio)}%\")"
   ]
  },
  {
   "cell_type": "markdown",
   "metadata": {},
   "source": [
    "As assumed earlier, the higher the class of the passenger was, the higher his odd of surviving was. The result is not that surprising, as first class was nearer to the deck and therefore probably had earlier access to rescue boats. The third class was quite isolated, therefore making it harder for those passengers to escape from the sinking ship.\n",
    "\n",
    "Buying a first class ticket earned you a 63% survivability probabilty. This value is reduced to sligthly under 50% (47.3%) for second class. Third class passengers only had a survival odd of about 25% (24.2%).\n",
    "\n",
    "We clearly see that this \"criteria\" is a quick way to estimate the rough odds for a person of a given class to survive, even though other criterias may have a significant impact. (Maybe only women survived overall and it has nothing to do with the passenger class. [We will check this hypothesis next.](#u-did-gender-influence-the-odd-of-survivingu))\n",
    "\n",
    "It is also interesting to keep in mind that the sample for first and second class is way smaller than third class, therefore maybe less accurate. "
   ]
  },
  {
   "cell_type": "code",
   "execution_count": 113,
   "metadata": {},
   "outputs": [
    {
     "data": {
      "text/plain": [
       "Text(0.5, 1.0, 'Survival rate for each passenger class (in %)')"
      ]
     },
     "execution_count": 113,
     "metadata": {},
     "output_type": "execute_result"
    },
    {
     "data": {
      "image/png": "[encoded data removed]",
      "text/plain": [
       "<Figure size 1080x360 with 1 Axes>"
      ]
     },
     "metadata": {
      "needs_background": "light"
     },
     "output_type": "display_data"
    }
   ],
   "source": [
    "values = [elem*100 for elem in [firstClassSurvivalRatio,1-firstClassSurvivalRatio,secondClassSurvivalRatio, 1-secondClassSurvivalRatio, thirdClassSurvivalRatio, 1-thirdClassSurvivalRatio]]\n",
    "\n",
    "plt.figure(figsize=(15, 5))\n",
    "plt.bar([\"1st Surviving\",\"1st Died\",\"2nd Surviving\",\"2nd Died\",\"3rd Surviving\",\"3rd Died\"], values)\n",
    "plt.title(\"Survival rate for each passenger class (in %)\")"
   ]
  },
  {
   "cell_type": "markdown",
   "metadata": {},
   "source": [
    "##### <u> Did gender influence your odd of surviving?</u>"
   ]
  },
  {
   "cell_type": "markdown",
   "metadata": {},
   "source": [
    "\n",
    "Will we be able to observe a major discrepancy between the genders regarding survival rate?<br>\n",
    "It is well known, that women and children have a higher priority when evacuating a ship or a plane. \n",
    "Indeed this question is a bit more complex, as a pure look at the gender distribution may be missleading.<br><br>\n",
    "Therefore, the gender question will split: \n",
    "It will be treated in this category, as well as later on, while taking into account the age too, to account for the male children for instance."
   ]
  },
  {
   "cell_type": "code",
   "execution_count": 89,
   "metadata": {},
   "outputs": [
    {
     "name": "stdout",
     "output_type": "stream",
     "text": [
      "Male passenger count: 577\n",
      "Male passenger ratio: 64.8%\n",
      "Male passenger survived: 109\n",
      "Male passenger dead: 468\n",
      "Male survival ratio: 18.9%\n",
      "\n",
      "Female passenger count: 314\n",
      "Female passenger ratio: 35.2%\n",
      "Female passenger survived: 233\n",
      "Female passenger dead: 81\n",
      "Female survival ratio: 74.2%\n"
     ]
    }
   ],
   "source": [
    "malePassengers = df[df.Sex == \"male\"]\n",
    "maleRatio = size(malePassengers)/totalPassengers\n",
    "\n",
    "maleDead = df[(df[\"Sex\"] == \"male\") & (df[\"Survived\"] == 0)]\n",
    "maleAlive = df[(df[\"Sex\"] == \"male\") & (df[\"Survived\"] == 1)]\n",
    "maleSurvivalRatio = size(maleAlive) / size(malePassengers)\n",
    "\n",
    "femalePassengers = df[df.Sex == \"female\"]\n",
    "femaleRatio = size(femalePassengers)/totalPassengers\n",
    "\n",
    "femaleDead = df[(df[\"Sex\"] == \"female\") & (df[\"Survived\"] == 0)]\n",
    "femaleAlive = df[(df[\"Sex\"] == \"female\") & (df[\"Survived\"] == 1)]\n",
    "femaleSurvivalRatio = size(femaleAlive) / size(femalePassengers)\n",
    "\n",
    "print(f\"Male passenger count: {size(malePassengers)}\\n\\\n",
    "Male passenger ratio: {toPercent(maleRatio)}%\\n\\\n",
    "Male passenger survived: {size(maleAlive)}\\n\\\n",
    "Male passenger dead: {size(maleDead)}\\n\\\n",
    "Male survival ratio: {toPercent(maleSurvivalRatio)}%\\n\\n\\\n",
    "\\\n",
    "Female passenger count: {size(femalePassengers)}\\n\\\n",
    "Female passenger ratio: {toPercent(femaleRatio)}%\\n\\\n",
    "Female passenger survived: {size(femaleAlive)}\\n\\\n",
    "Female passenger dead: {size(femaleDead)}\\n\\\n",
    "Female survival ratio: {toPercent(femaleSurvivalRatio)}%\")"
   ]
  },
  {
   "cell_type": "markdown",
   "metadata": {},
   "source": [
    "From that data, we see that:\n",
    "\n",
    "1) There were more men than women on board of the titanic (About 65% of the passengers were male).\n",
    "2) The survial ratio for male passengers was way smaller (19%) than for female passengers (74%). These numbers clearly indicate that women had priority, while boarding the rescue boats compared to men, regardless of their class.\n",
    "\n",
    "From this point on, there is an obvious additional question. Where the \"rare\" saved male passengers children, rich people or just lucky passengers?"
   ]
  },
  {
   "cell_type": "code",
   "execution_count": 90,
   "metadata": {},
   "outputs": [
    {
     "data": {
      "text/plain": [
       "Text(0.5, 1.0, 'Survival rate per gender (in %)')"
      ]
     },
     "execution_count": 90,
     "metadata": {},
     "output_type": "execute_result"
    },
    {
     "data": {
      "image/png": "[encoded data removed]",
      "text/plain": [
       "<Figure size 1080x360 with 1 Axes>"
      ]
     },
     "metadata": {
      "needs_background": "light"
     },
     "output_type": "display_data"
    }
   ],
   "source": [
    "values = [elem*100 for elem in [1,1-maleSurvivalRatio,maleSurvivalRatio, 1, 1-femaleSurvivalRatio, femaleSurvivalRatio]]\n",
    "\n",
    "plt.figure(figsize=(15, 5))\n",
    "plt.bar([\"Male Total\",\"Male Dead\",\"Male Surviving\",\"Female Total\",\"Female Dead\",\"Female Surviving\"], values)\n",
    "plt.title(\"Survival rate per gender (in %)\")"
   ]
  },
  {
   "cell_type": "markdown",
   "metadata": {},
   "source": [
    "##### <u> Does the age of a passenger influence its survival odd?</u>"
   ]
  },
  {
   "cell_type": "markdown",
   "metadata": {},
   "source": [
    "The sinking of the ship was probably quite stressful. Senior passengers probably had a harder time reaching the deck of the boat, as they usualy are weaker. Can we observe a high survival ratio for a specific \"age class\"? And what do the graphs of the surviving/dead male and female passengers look like? Are most of the male survivors children?"
   ]
  },
  {
   "cell_type": "code",
   "execution_count": 91,
   "metadata": {},
   "outputs": [
    {
     "name": "stdout",
     "output_type": "stream",
     "text": [
      "No age given for 177 passengers. Only given for 714\n"
     ]
    }
   ],
   "source": [
    "# Missing age information\n",
    "noAgesGiven = df[df.Age.isnull()]\n",
    "\n",
    "print(f\"No age given for {size(noAgesGiven)} passengers. Only given for {size(df)-size(noAgesGiven)}\")"
   ]
  },
  {
   "cell_type": "markdown",
   "metadata": {},
   "source": [
    "Age repartion of all the passengers (not all the ages of the passengers were given, 177 were missing):"
   ]
  },
  {
   "cell_type": "code",
   "execution_count": 92,
   "metadata": {},
   "outputs": [],
   "source": [
    "# All passengers\n",
    "agesMixed = df[\"Age\"].unique()\n",
    "agesMixed = agesMixed[~np.isnan(agesMixed)]\n",
    "counterMixed = [size(df[df.Age == val]) for val in agesMixed]\n",
    "\n",
    "ageMales = malePassengers[\"Age\"].unique()\n",
    "ageMales = ageMales[~np.isnan(ageMales)]\n",
    "counterMale = [size(df[(df[\"Age\"] == val) & (df[\"Sex\"] == \"male\")]) for val in ageMales]\n",
    "\n",
    "ageFemale = femalePassengers[\"Age\"].unique()\n",
    "ageFemale = ageFemale[~np.isnan(ageFemale)]\n",
    "counterFemale = [size(df[(df[\"Age\"] == val) & (df[\"Sex\"] == \"female\")]) for val in ageFemale]"
   ]
  },
  {
   "cell_type": "code",
   "execution_count": 93,
   "metadata": {},
   "outputs": [
    {
     "data": {
      "text/plain": [
       "Text(0.5, 1.0, 'Females')"
      ]
     },
     "execution_count": 93,
     "metadata": {},
     "output_type": "execute_result"
    },
    {
     "data": {
      "image/png": "[encoded data removed]",
      "text/plain": [
       "<Figure size 1728x360 with 3 Axes>"
      ]
     },
     "metadata": {
      "needs_background": "light"
     },
     "output_type": "display_data"
    }
   ],
   "source": [
    "plt.figure(figsize=(24, 5))\n",
    "plt.subplot(131)\n",
    "plt.bar(agesMixed, counterMixed)\n",
    "plt.title(\"Mixed genders\")\n",
    "plt.subplot(132)\n",
    "plt.bar(ageMales, counterMale)\n",
    "plt.title(\"Males\")\n",
    "plt.subplot(133)\n",
    "plt.bar(ageFemale, counterFemale)\n",
    "plt.title(\"Females\")"
   ]
  },
  {
   "cell_type": "markdown",
   "metadata": {},
   "source": [
    "We can see from those graphs, that the most prevalent male passenger age group was adults (from 18 to 35 years old). For female passengers the age classes were quite even, allthough we can also observe a bit higher presence of adult (from 18 to 35 years old)."
   ]
  },
  {
   "cell_type": "markdown",
   "metadata": {},
   "source": [
    "How does the age repartition look like for deceased male and female passengers:"
   ]
  },
  {
   "cell_type": "code",
   "execution_count": 94,
   "metadata": {},
   "outputs": [],
   "source": [
    "# Dead only\n",
    "deads = df[df.Survived == 0]\n",
    "agesMixedDead = deads[\"Age\"].unique()\n",
    "agesMixedDead = agesMixedDead[~np.isnan(agesMixedDead)]\n",
    "counterMixedDead = [size(deads[deads.Age == val]) for val in agesMixedDead]\n",
    "\n",
    "deadMales = df[(df.Survived == 0) & (df.Sex == \"male\")]\n",
    "ageMalesDead = deadMales[\"Age\"].unique()\n",
    "ageMalesDead = ageMalesDead[~np.isnan(ageMalesDead)]\n",
    "counterMaleDead = [size(deads[(deads[\"Age\"] == val) & (deads[\"Sex\"] == \"male\")]) for val in ageMalesDead]\n",
    "\n",
    "deadFemales = df[(df.Survived == 0) & (df.Sex == \"female\")]\n",
    "ageFemaleDead = deadFemales[\"Age\"].unique()\n",
    "ageFemaleDead = ageFemaleDead[~np.isnan(ageFemaleDead)]\n",
    "counterFemaleDead = [size(deads[(deads[\"Age\"] == val) & (deads[\"Sex\"] == \"female\")]) for val in ageFemaleDead]"
   ]
  },
  {
   "cell_type": "code",
   "execution_count": 95,
   "metadata": {},
   "outputs": [
    {
     "data": {
      "text/plain": [
       "Text(0.5, 1.0, 'Females')"
      ]
     },
     "execution_count": 95,
     "metadata": {},
     "output_type": "execute_result"
    },
    {
     "data": {
      "image/png": "[encoded data removed]",
      "text/plain": [
       "<Figure size 1728x360 with 3 Axes>"
      ]
     },
     "metadata": {
      "needs_background": "light"
     },
     "output_type": "display_data"
    }
   ],
   "source": [
    "plt.figure(figsize=(24, 5))\n",
    "plt.subplot(131)\n",
    "plt.bar(agesMixedDead, counterMixedDead)\n",
    "plt.title(\"Mixed genders\")\n",
    "plt.subplot(132)\n",
    "plt.bar(ageMalesDead, counterMaleDead)\n",
    "plt.title(\"Males\")\n",
    "plt.subplot(133)\n",
    "plt.bar(ageFemaleDead, counterFemaleDead)\n",
    "plt.title(\"Females\")"
   ]
  },
  {
   "cell_type": "markdown",
   "metadata": {},
   "source": [
    "We can observe that most of the deceased passengers (especialy true for male passengers) were adults, as they also represent the most prevalent passenger group. "
   ]
  },
  {
   "cell_type": "markdown",
   "metadata": {},
   "source": [
    "How does the age repartition look like for survivors:"
   ]
  },
  {
   "cell_type": "code",
   "execution_count": 96,
   "metadata": {},
   "outputs": [],
   "source": [
    "# Alive only\n",
    "alive = df[df.Survived == 1]\n",
    "agesMixedAlive = alive[\"Age\"].unique()\n",
    "agesMixedAlive = agesMixedAlive[~np.isnan(agesMixedAlive)]\n",
    "counterMixedAlive = [size(alive[alive.Age == val]) for val in agesMixedAlive]\n",
    "\n",
    "aliveMales = df[(df.Survived == 0) & (df.Sex == \"male\")]\n",
    "ageMalesAlive = aliveMales[\"Age\"].unique()\n",
    "ageMalesAlive = ageMalesAlive[~np.isnan(ageMalesAlive)]\n",
    "counterMaleAlive = [size(alive[(alive[\"Age\"] == val) & (alive[\"Sex\"] == \"male\")]) for val in ageMalesAlive]\n",
    "\n",
    "aliveFemales = df[(df.Survived == 0) & (df.Sex == \"female\")]\n",
    "ageFemaleAlive = aliveFemales[\"Age\"].unique()\n",
    "ageFemaleAlive = ageFemaleAlive[~np.isnan(ageFemaleAlive)]\n",
    "counterFemaleAlive = [size(alive[(alive[\"Age\"] == val) & (alive[\"Sex\"] == \"female\")]) for val in ageFemaleAlive]"
   ]
  },
  {
   "cell_type": "code",
   "execution_count": 97,
   "metadata": {},
   "outputs": [
    {
     "data": {
      "text/plain": [
       "Text(0.5, 1.0, 'Females')"
      ]
     },
     "execution_count": 97,
     "metadata": {},
     "output_type": "execute_result"
    },
    {
     "data": {
      "image/png": "[encoded data removed]",
      "text/plain": [
       "<Figure size 1728x360 with 3 Axes>"
      ]
     },
     "metadata": {
      "needs_background": "light"
     },
     "output_type": "display_data"
    }
   ],
   "source": [
    "plt.figure(figsize=(24, 5))\n",
    "plt.subplot(131)\n",
    "plt.bar(agesMixedAlive, counterMixedAlive)\n",
    "plt.title(\"Mixed genders\")\n",
    "plt.subplot(132)\n",
    "plt.bar(ageMalesAlive, counterMaleAlive)\n",
    "plt.title(\"Males\")\n",
    "plt.subplot(133)\n",
    "plt.bar(ageFemaleAlive, counterFemaleAlive)\n",
    "plt.title(\"Females\")"
   ]
  },
  {
   "cell_type": "markdown",
   "metadata": {},
   "source": [
    "As the survival rate for male passengers was quite low, it is hard to get any usable information from the graph about male passengers. In contrary, female passengers in adult age seem to have survived the most. "
   ]
  },
  {
   "cell_type": "markdown",
   "metadata": {},
   "source": [
    "Now that we have seen the age repartition for male and female survivors/deads, it would be interesting to analyse the survival rate per \"age range\":\n",
    "- Children (0 -> 13)\n",
    "- Teenagers (14 -> 18)\n",
    "- Adults(18 -> 60)\n",
    "- Senior Citizen (60 -> inf)"
   ]
  },
  {
   "cell_type": "code",
   "execution_count": 98,
   "metadata": {},
   "outputs": [],
   "source": [
    "childrens = df[(df.Age <= 13)]\n",
    "teenagers = df[(df.Age >= 14) & (df.Age < 18)]\n",
    "adults = df[(df.Age >= 18) & (df.Age <= 60)]\n",
    "seniors = df[(df.Age >= 61)]\n",
    "\n",
    "childrenAlive = childrens[childrens.Survived == 1]\n",
    "childrenDead = childrens[childrens.Survived == 0]\n",
    "\n",
    "teenagersAlive = teenagers[teenagers.Survived == 1]\n",
    "teenagersDead = teenagers[teenagers.Survived == 0]\n",
    "\n",
    "adultsAlive = adults[adults.Survived == 1]\n",
    "adultsDead = adults[adults.Survived == 0]\n",
    "\n",
    "seniorsAlive = seniors[seniors.Survived == 1]\n",
    "seniorsDead = seniors[seniors.Survived == 0]"
   ]
  },
  {
   "cell_type": "code",
   "execution_count": 99,
   "metadata": {},
   "outputs": [
    {
     "name": "stdout",
     "output_type": "stream",
     "text": [
      "Children count: 71\n",
      "Teenager count: 42\n",
      "Adult count: 579\n",
      "Senior count: 22\n",
      "\n",
      "Children survival: 42\n",
      "Children dead: 29\n",
      "Teenagers survival: 19\n",
      "Teenagers dead: 23\n",
      "Adults survival: 224\n",
      "Adults dead: 355\n",
      "Senior survival: 5\n",
      "Senior dead: 17\n"
     ]
    }
   ],
   "source": [
    "print(f\"Children count: {size(childrens)}\\nTeenager count: {size(teenagers)}\\nAdult count: {size(adults)}\\nSenior count: {size(seniors)}\\n\")\n",
    "\n",
    "print(f\"\\\n",
    "Children survival: {size(childrenAlive)}\\n\\\n",
    "Children dead: {size(childrenDead)}\\n\\\n",
    "Teenagers survival: {size(teenagersAlive)}\\n\\\n",
    "Teenagers dead: {size(teenagersDead)}\\n\\\n",
    "Adults survival: {size(adultsAlive)}\\n\\\n",
    "Adults dead: {size(adultsDead)}\\n\\\n",
    "Senior survival: {size(seniorsAlive)}\\n\\\n",
    "Senior dead: {size(seniorsDead)}\")"
   ]
  },
  {
   "cell_type": "code",
   "execution_count": 100,
   "metadata": {},
   "outputs": [
    {
     "data": {
      "text/plain": [
       "<BarContainer object of 4 artists>"
      ]
     },
     "execution_count": 100,
     "metadata": {},
     "output_type": "execute_result"
    },
    {
     "data": {
      "image/png": "[encoded data removed]",
      "text/plain": [
       "<Figure size 720x360 with 1 Axes>"
      ]
     },
     "metadata": {
      "needs_background": "light"
     },
     "output_type": "display_data"
    }
   ],
   "source": [
    "plt.figure(figsize=(10, 5))\n",
    "plt.title(\"Age group repartition (Alive and dead)\")\n",
    "plt.bar([\"Children\",\"Teenager\",\"Adults\",\"Seniors\"], [size(childrens),size(teenagers),size(adults),size(seniors)])"
   ]
  },
  {
   "cell_type": "markdown",
   "metadata": {},
   "source": [
    "As evoked earlier on, the main age category on board of the titanic is adult age (from 18 to 60 years old). How do the different age ranges compare in regard of survival rate?"
   ]
  },
  {
   "cell_type": "code",
   "execution_count": 101,
   "metadata": {},
   "outputs": [
    {
     "data": {
      "text/plain": [
       "<BarContainer object of 8 artists>"
      ]
     },
     "execution_count": 101,
     "metadata": {},
     "output_type": "execute_result"
    },
    {
     "data": {
      "image/png": "[encoded data removed]",
      "text/plain": [
       "<Figure size 1080x360 with 1 Axes>"
      ]
     },
     "metadata": {
      "needs_background": "light"
     },
     "output_type": "display_data"
    }
   ],
   "source": [
    "categories = [\"Children Alive\",\"Children Dead\",\"Teenager Alive\",\"Teenager Dead\",\"Adults Alive\",\"Adults Dead\",\"Seniors Alive\",\"Seniors Dead\"]\n",
    "values = [size(childrenAlive),size(childrenDead),size(teenagersAlive),size(teenagersDead),size(adultsAlive),size(adultsDead),size(seniorsAlive),size(seniorsDead)]\n",
    "\n",
    "plt.figure(figsize=(15, 5))\n",
    "plt.title(\"Age group survival repartition\")\n",
    "plt.bar(categories, values)"
   ]
  },
  {
   "cell_type": "code",
   "execution_count": 102,
   "metadata": {},
   "outputs": [
    {
     "data": {
      "text/plain": [
       "<BarContainer object of 8 artists>"
      ]
     },
     "execution_count": 102,
     "metadata": {},
     "output_type": "execute_result"
    },
    {
     "data": {
      "image/png": "[encoded data removed]",
      "text/plain": [
       "<Figure size 1080x360 with 1 Axes>"
      ]
     },
     "metadata": {
      "needs_background": "light"
     },
     "output_type": "display_data"
    }
   ],
   "source": [
    "valuesPercent = [\n",
    "    toPercent(size(childrenAlive)/+size(childrens)),\n",
    "    toPercent(size(childrenDead)/size(childrens)),\n",
    "    toPercent(size(teenagersAlive)/size(teenagers)),\n",
    "    toPercent(size(teenagersDead)/size(teenagers)),\n",
    "    toPercent(size(adultsAlive)/size(adults)),\n",
    "    toPercent(size(adultsDead)/size(adults)),\n",
    "    toPercent(size(seniorsAlive)/size(seniors)),\n",
    "    toPercent(size(seniorsDead)/size(seniors))\n",
    "]\n",
    "\n",
    "plt.figure(figsize=(15, 5))\n",
    "plt.title(\"Age group survival repartition in %\")\n",
    "plt.bar(categories, valuesPercent)"
   ]
  },
  {
   "cell_type": "markdown",
   "metadata": {},
   "source": [
    "From that graph it is clearly visible, that children had a better chance of surviving (about 60%), and every age range afterwards has worse and worse survival ratios (teenager: about 45%, adults: about 40%, seniors: about 25%). This repartition clearly makes sense, as children (no matter their gender) had priority to board on a rescue boat, and the rest of the passengers were prioritized depending on their gender (mostly females). \n",
    "<br><br>\n",
    "To check that hypothesis, we can determine the gender of surviving adults, as they represent the most prevalent group of passengers:"
   ]
  },
  {
   "cell_type": "code",
   "execution_count": 103,
   "metadata": {},
   "outputs": [
    {
     "name": "stdout",
     "output_type": "stream",
     "text": [
      "Male adults alive: 68\n",
      "Male adults dead: 308\n",
      "Female adults alive: 156\n",
      "Female adults dead: 47\n",
      "\n",
      "Male total: 376\n",
      "Female total: 203\n"
     ]
    }
   ],
   "source": [
    "adultsMaleAlive = adultsAlive[adultsAlive.Sex == \"male\"]\n",
    "adultsMaleDead = adultsDead[adultsDead.Sex == \"male\"]\n",
    "adultsMale = adults[adults.Sex == \"male\"]\n",
    "\n",
    "adultsFemaleAlive = adultsAlive[adultsAlive.Sex == \"female\"]\n",
    "adultsFemaleDead = adultsDead[adultsDead.Sex == \"female\"]\n",
    "adultsFemale = adults[adults.Sex == \"female\"]\n",
    "\n",
    "print(f\"Male adults alive: {size(adultsMaleAlive)}\\nMale adults dead: {size(adultsMaleDead)}\\nFemale adults alive: {size(adultsFemaleAlive)}\\nFemale adults dead: {size(adultsFemaleDead)}\")\n",
    "print(f\"\\nMale total: {size(adultsMale)}\\nFemale total: {size(adultsFemale)}\")"
   ]
  },
  {
   "cell_type": "code",
   "execution_count": 104,
   "metadata": {},
   "outputs": [
    {
     "data": {
      "text/plain": [
       "<BarContainer object of 4 artists>"
      ]
     },
     "execution_count": 104,
     "metadata": {},
     "output_type": "execute_result"
    },
    {
     "data": {
      "image/png": "[encoded data removed]",
      "text/plain": [
       "<Figure size 1080x360 with 1 Axes>"
      ]
     },
     "metadata": {
      "needs_background": "light"
     },
     "output_type": "display_data"
    }
   ],
   "source": [
    "values = [toPercent(size(adultsMaleAlive)/size(adultsMale)),toPercent(size(adultsMaleDead)/size(adultsMale)),toPercent(size(adultsFemaleAlive)/size(adultsFemale)),toPercent(size(adultsFemaleDead)/size(adultsFemale))]\n",
    "categories = [\"Adult Male Alive\",\"Adult Male Dead\",\"Adult Female Alive\",\"Adult Female Dead\"]\n",
    "\n",
    "plt.figure(figsize=(15, 5))\n",
    "plt.title(\"Gender and survival ratio for adults (in %)\")\n",
    "plt.bar(categories, values)"
   ]
  },
  {
   "cell_type": "markdown",
   "metadata": {},
   "source": [
    "Indeed it is very obvious that women were prioritized, as about only 20% of male passengers (including children) survived, compared to nearly 75% of female passengers.<br><br>\n",
    "\n",
    "We can indeed observe a high survival ratio for children, as they probably got saved first together with women. We can therefore also notice that women had a way higher survival rate than men. In contrary to the starting hypothesis, that most of the male survivors would be children, we can clearly see on the graph of male survivors, that also adults got saved (probably first class passengers and richer passengers).\n",
    "\n",
    "Compared to the passenger class or to the gender, the age doesn't provide a very accurate criteria, except children (high survival rate) and seniors (very low survival rate). Therefore, if we want to use the age as a criteria, it needs to be paired with the gender to be more \"accurate\"."
   ]
  },
  {
   "cell_type": "markdown",
   "metadata": {},
   "source": [
    "##### <u>Did traveling alone increase your survival rate?</u>"
   ]
  },
  {
   "cell_type": "markdown",
   "metadata": {},
   "source": [
    "In this section we are going to analyze both the traveling with:\n",
    "- siblings / spouses\n",
    "- parents / children\n",
    "\n",
    "In a stressful scenario, it is important that people can focus. If the passengers had parents or children to take care of, they might get deconcentrated and thus this would reduce their surviving chances. Therefore, we may ask ourselves: Does traveling alone increase your survival odd? Do we observe a difference in survival rate depending on the number of relatives on board as well (SibSp + Parch)?"
   ]
  },
  {
   "cell_type": "code",
   "execution_count": 106,
   "metadata": {},
   "outputs": [
    {
     "name": "stdout",
     "output_type": "stream",
     "text": [
      "Lone Traveller: 537\n",
      "One Relative Traveller: 161\n",
      "Two Relative Traveller: 102\n",
      "Three or more Relative Traveller: 91\n"
     ]
    }
   ],
   "source": [
    "loneTraveller = df[df.SibSp + df.Parch == 0]\n",
    "oneRelative = df[df.SibSp + df.Parch == 1]\n",
    "twoRelative = df[df.SibSp + df.Parch == 2]\n",
    "threeOrMoreRelative = df[df.SibSp + df.Parch >= 3]\n",
    "\n",
    "print(f\"Lone Traveller: {size(loneTraveller)}\\nOne Relative Traveller: {size(oneRelative)}\\nTwo Relative Traveller: {size(twoRelative)}\\nThree or more Relative Traveller: {size(threeOrMoreRelative)}\")"
   ]
  },
  {
   "cell_type": "markdown",
   "metadata": {},
   "source": [
    "As we can see from that data, most of the passengers did travel alone, without any siblings/spoused/parents or children."
   ]
  },
  {
   "cell_type": "code",
   "execution_count": 109,
   "metadata": {},
   "outputs": [
    {
     "name": "stdout",
     "output_type": "stream",
     "text": [
      "Lone Traveller Survivor: 163\n",
      "Lone Traveller Deceased: 374\n",
      "\n",
      "One Relative Survivor: 89\n",
      "One Relative Survivor: 72\n",
      "\n",
      "Two Relative Survivor: 59\n",
      "Two Relative Survivor: 43\n",
      "\n",
      "Three+ Relative Survivor: 31\n",
      "Three+ Relative Survivor: 60\n",
      "\n"
     ]
    }
   ],
   "source": [
    "loneSurvivor = loneTraveller[loneTraveller.Survived == 1]\n",
    "loneDead = loneTraveller[loneTraveller.Survived == 0]\n",
    "\n",
    "oneSurvivor = oneRelative[oneRelative.Survived == 1]\n",
    "oneDead = oneRelative[oneRelative.Survived == 0]\n",
    "\n",
    "twoSurvivor = twoRelative[twoRelative.Survived == 1]\n",
    "twoDead = twoRelative[twoRelative.Survived == 0]\n",
    "\n",
    "threeMoreSurvivor = threeOrMoreRelative[threeOrMoreRelative.Survived == 1]\n",
    "threeMoreDead = threeOrMoreRelative[threeOrMoreRelative.Survived == 0]\n",
    "\n",
    "print(f\"Lone Traveller Survivor: {size(loneSurvivor)}\\n\\\n",
    "Lone Traveller Deceased: {size(loneDead)}\\n\\n\\\n",
    "One Relative Survivor: {size(oneSurvivor)}\\n\\\n",
    "One Relative Survivor: {size(oneDead)}\\n\\n\\\n",
    "Two Relative Survivor: {size(twoSurvivor)}\\n\\\n",
    "Two Relative Survivor: {size(twoDead)}\\n\\n\\\n",
    "Three+ Relative Survivor: {size(threeMoreSurvivor)}\\n\\\n",
    "Three+ Relative Survivor: {size(threeMoreDead)}\\n\")"
   ]
  },
  {
   "cell_type": "code",
   "execution_count": 112,
   "metadata": {},
   "outputs": [
    {
     "name": "stdout",
     "output_type": "stream",
     "text": [
      "30.4 55.3 57.8 34.1\n"
     ]
    }
   ],
   "source": [
    "loneTravellerRatio = size(loneSurvivor)/size(loneTraveller)\n",
    "oneTravellerRatio = size(oneSurvivor)/size(oneRelative)\n",
    "twoTravellerRatio = size(twoSurvivor)/size(twoRelative)\n",
    "threeTravellerRatio = size(threeMoreSurvivor)/size(threeOrMoreRelative)\n",
    "\n",
    "print(toPercent(loneTravellerRatio),toPercent(oneTravellerRatio),toPercent(twoTravellerRatio),toPercent(threeTravellerRatio))"
   ]
  }
 ],
 "metadata": {
  "kernelspec": {
   "display_name": "Python 3.8.1 64-bit",
   "language": "python",
   "name": "python3"
  },
  "language_info": {
   "codemirror_mode": {
    "name": "ipython",
    "version": 3
   },
   "file_extension": ".py",
   "mimetype": "text/x-python",
   "name": "python",
   "nbconvert_exporter": "python",
   "pygments_lexer": "ipython3",
   "version": "3.8.1"
  },
  "orig_nbformat": 4,
  "vscode": {
   "interpreter": {
    "hash": "52634da84371cba311ea128a5ea7cdc41ff074b781779e754b270ff9f8153cee"
   }
  }
 },
 "nbformat": 4,
 "nbformat_minor": 2
}
