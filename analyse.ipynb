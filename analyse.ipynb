{
 "cells": [
  {
   "cell_type": "markdown",
   "metadata": {},
   "source": [
    "## <u>Preface:</u>\n",
    "\n",
    "The goal of this jupyter notebook is to find some concrete \"criterias\", that strongly influence the probability for a passenger to survive.\n",
    "With those criterias and paired with a tensorflow model, the goal is to determine, wether or not a given person would survive the titanic accident.\n",
    "\n",
    "The training data set was provided from kaggle: https://www.kaggle.com/competitions/titanic\n",
    "\n",
    "<u><strong>TODO: Clean documentation</u></strong>"
   ]
  },
  {
   "cell_type": "code",
   "execution_count": 79,
   "metadata": {},
   "outputs": [],
   "source": [
    "import numpy as np\n",
    "import pandas as pd\n",
    "import matplotlib.pyplot as plt"
   ]
  },
  {
   "cell_type": "code",
   "execution_count": 80,
   "metadata": {},
   "outputs": [],
   "source": [
    "# Helper Functions\n",
    "\n",
    "def toPercent(value):\n",
    "    return round(round(value,3)*100,1)"
   ]
  },
  {
   "cell_type": "code",
   "execution_count": 81,
   "metadata": {},
   "outputs": [
    {
     "data": {
      "text/html": [
       "<div>\n",
       "<style scoped>\n",
       "    .dataframe tbody tr th:only-of-type {\n",
       "        vertical-align: middle;\n",
       "    }\n",
       "\n",
       "    .dataframe tbody tr th {\n",
       "        vertical-align: top;\n",
       "    }\n",
       "\n",
       "    .dataframe thead th {\n",
       "        text-align: right;\n",
       "    }\n",
       "</style>\n",
       "<table border=\"1\" class=\"dataframe\">\n",
       "  <thead>\n",
       "    <tr style=\"text-align: right;\">\n",
       "      <th></th>\n",
       "      <th>PassengerId</th>\n",
       "      <th>Survived</th>\n",
       "      <th>Pclass</th>\n",
       "      <th>Name</th>\n",
       "      <th>Sex</th>\n",
       "      <th>Age</th>\n",
       "      <th>SibSp</th>\n",
       "      <th>Parch</th>\n",
       "      <th>Ticket</th>\n",
       "      <th>Fare</th>\n",
       "      <th>Cabin</th>\n",
       "      <th>Embarked</th>\n",
       "    </tr>\n",
       "  </thead>\n",
       "  <tbody>\n",
       "    <tr>\n",
       "      <th>0</th>\n",
       "      <td>1</td>\n",
       "      <td>0</td>\n",
       "      <td>3</td>\n",
       "      <td>Braund, Mr. Owen Harris</td>\n",
       "      <td>male</td>\n",
       "      <td>22.0</td>\n",
       "      <td>1</td>\n",
       "      <td>0</td>\n",
       "      <td>A/5 21171</td>\n",
       "      <td>7.2500</td>\n",
       "      <td>NaN</td>\n",
       "      <td>S</td>\n",
       "    </tr>\n",
       "    <tr>\n",
       "      <th>1</th>\n",
       "      <td>2</td>\n",
       "      <td>1</td>\n",
       "      <td>1</td>\n",
       "      <td>Cumings, Mrs. John Bradley (Florence Briggs Th...</td>\n",
       "      <td>female</td>\n",
       "      <td>38.0</td>\n",
       "      <td>1</td>\n",
       "      <td>0</td>\n",
       "      <td>PC 17599</td>\n",
       "      <td>71.2833</td>\n",
       "      <td>C85</td>\n",
       "      <td>C</td>\n",
       "    </tr>\n",
       "    <tr>\n",
       "      <th>2</th>\n",
       "      <td>3</td>\n",
       "      <td>1</td>\n",
       "      <td>3</td>\n",
       "      <td>Heikkinen, Miss. Laina</td>\n",
       "      <td>female</td>\n",
       "      <td>26.0</td>\n",
       "      <td>0</td>\n",
       "      <td>0</td>\n",
       "      <td>STON/O2. 3101282</td>\n",
       "      <td>7.9250</td>\n",
       "      <td>NaN</td>\n",
       "      <td>S</td>\n",
       "    </tr>\n",
       "    <tr>\n",
       "      <th>3</th>\n",
       "      <td>4</td>\n",
       "      <td>1</td>\n",
       "      <td>1</td>\n",
       "      <td>Futrelle, Mrs. Jacques Heath (Lily May Peel)</td>\n",
       "      <td>female</td>\n",
       "      <td>35.0</td>\n",
       "      <td>1</td>\n",
       "      <td>0</td>\n",
       "      <td>113803</td>\n",
       "      <td>53.1000</td>\n",
       "      <td>C123</td>\n",
       "      <td>S</td>\n",
       "    </tr>\n",
       "    <tr>\n",
       "      <th>4</th>\n",
       "      <td>5</td>\n",
       "      <td>0</td>\n",
       "      <td>3</td>\n",
       "      <td>Allen, Mr. William Henry</td>\n",
       "      <td>male</td>\n",
       "      <td>35.0</td>\n",
       "      <td>0</td>\n",
       "      <td>0</td>\n",
       "      <td>373450</td>\n",
       "      <td>8.0500</td>\n",
       "      <td>NaN</td>\n",
       "      <td>S</td>\n",
       "    </tr>\n",
       "  </tbody>\n",
       "</table>\n",
       "</div>"
      ],
      "text/plain": [
       "   PassengerId  Survived  Pclass  \\\n",
       "0            1         0       3   \n",
       "1            2         1       1   \n",
       "2            3         1       3   \n",
       "3            4         1       1   \n",
       "4            5         0       3   \n",
       "\n",
       "                                                Name     Sex   Age  SibSp  \\\n",
       "0                            Braund, Mr. Owen Harris    male  22.0      1   \n",
       "1  Cumings, Mrs. John Bradley (Florence Briggs Th...  female  38.0      1   \n",
       "2                             Heikkinen, Miss. Laina  female  26.0      0   \n",
       "3       Futrelle, Mrs. Jacques Heath (Lily May Peel)  female  35.0      1   \n",
       "4                           Allen, Mr. William Henry    male  35.0      0   \n",
       "\n",
       "   Parch            Ticket     Fare Cabin Embarked  \n",
       "0      0         A/5 21171   7.2500   NaN        S  \n",
       "1      0          PC 17599  71.2833   C85        C  \n",
       "2      0  STON/O2. 3101282   7.9250   NaN        S  \n",
       "3      0            113803  53.1000  C123        S  \n",
       "4      0            373450   8.0500   NaN        S  "
      ]
     },
     "execution_count": 81,
     "metadata": {},
     "output_type": "execute_result"
    }
   ],
   "source": [
    "file = \"Data/train.csv\"\n",
    "\n",
    "df = pd.read_csv(file, sep = \",\")\n",
    "df.head()"
   ]
  },
  {
   "cell_type": "markdown",
   "metadata": {},
   "source": [
    "#### <u>Criteria List:</u>\n",
    "\n",
    "- PassengerId (should not be relevant for the analysis)\n",
    "- Ticket Number (probably no correlation with survival probability)<br>\n",
    "<br>\n",
    "- [Passenger Class (First, Second, Third)](#udoes-the-passenger-class-influence-the-odd-of-survivingu)\n",
    "- [Sex](#u-did-gender-influence-the-odd-of-survivingu)\n",
    "- [Age](#u-does-the-age-of-a-passenger-influence-its-survival-oddu)\n",
    "- Number of siblings/spouses on Titanic\n",
    "- Number of parents/children on Titanic\n",
    "- Fare (Price paid)\n",
    "- Cabin Number (Not always existent)\n",
    "- Embarkation Port (C = Cherbourg, Q = Queenstown, S = Southampton)\n",
    "\n",
    "For each of the given criterias, there will be a statistical analysis and afterwards a possible explanation for that outcome.\n",
    "\n",
    "Although all of those criterias can be seen individualy, it makes sense to combine some of then additionaly, as for example:\n",
    "- [Age and gender (to take into account male and female children)](#udid-children-realy-have-priorityu)\n",
    "- Gender and passenger class (Rich men compared to \"poor\" female)\n",
    "\n",
    "From a historical point of view, we know for example that people from first and second class had a shorter  \"way\" to the rescue boats. Those additional thoughts will be analysed in a separate paragraph at the end."
   ]
  },
  {
   "cell_type": "markdown",
   "metadata": {},
   "source": [
    "##### <u>Basic Information</u>"
   ]
  },
  {
   "cell_type": "code",
   "execution_count": 82,
   "metadata": {},
   "outputs": [
    {
     "name": "stdout",
     "output_type": "stream",
     "text": [
      "First class: 216\n",
      "Second class: 184\n",
      "Third class: 491\n",
      "Total: 891\n",
      "\n",
      "Passengers Survived: 342\n",
      "Passengers Dead: 549\n"
     ]
    }
   ],
   "source": [
    "firstClass= df[df.Pclass == 1]\n",
    "secondClass = df[df.Pclass == 2]\n",
    "thirdClass = df[df.Pclass == 3]\n",
    "\n",
    "totalPassengers = df.shape[0]\n",
    "\n",
    "passengersDead = df[df[\"Survived\"] == 0]\n",
    "passengersAlive = df[df[\"Survived\"] == 1]\n",
    "\n",
    "print(f\"First class: {firstClass.shape[0]}\\nSecond class: {secondClass.shape[0]}\\nThird class: {thirdClass.shape[0]}\\nTotal: {totalPassengers}\\n\")\n",
    "\n",
    "print(f\"Passengers Survived: {passengersAlive.shape[0]}\\nPassengers Dead: {passengersDead.shape[0]}\")\n"
   ]
  },
  {
   "cell_type": "markdown",
   "metadata": {},
   "source": [
    "##### <u>Does the passenger class influence the odd of surviving?</u>"
   ]
  },
  {
   "cell_type": "code",
   "execution_count": 83,
   "metadata": {},
   "outputs": [
    {
     "name": "stdout",
     "output_type": "stream",
     "text": [
      "First class died: 80\n",
      "First class survived: 136\n",
      "Survival Ratio: 63.0%\n"
     ]
    }
   ],
   "source": [
    "firstClassDead = df[(df[\"Pclass\"] == 1) & (df[\"Survived\"] == 0)]\n",
    "firstClassAlive = df[(df[\"Pclass\"] == 1) & (df[\"Survived\"] == 1)]\n",
    "firstClassSurvivalRatio = firstClassAlive.shape[0]/firstClass.shape[0]\n",
    "\n",
    "print(f\"First class died: {firstClassDead.shape[0]}\\nFirst class survived: {firstClassAlive.shape[0]}\\nSurvival Ratio: {toPercent(firstClassSurvivalRatio)}%\")"
   ]
  },
  {
   "cell_type": "code",
   "execution_count": 84,
   "metadata": {},
   "outputs": [
    {
     "name": "stdout",
     "output_type": "stream",
     "text": [
      "Second class died: 97\n",
      "Second class survived: 87\n",
      "Survival Ratio: 47.3%\n"
     ]
    }
   ],
   "source": [
    "secondClassDead = df[(df[\"Pclass\"] == 2) & (df[\"Survived\"] == 0)]\n",
    "secondClassAlive = df[(df[\"Pclass\"] == 2) & (df[\"Survived\"] == 1)]\n",
    "secondClassSurvivalRatio = secondClassAlive.shape[0]/secondClass.shape[0]\n",
    "\n",
    "print(f\"Second class died: {secondClassDead.shape[0]}\\nSecond class survived: {secondClassAlive.shape[0]}\\nSurvival Ratio: {toPercent(secondClassSurvivalRatio)}%\")"
   ]
  },
  {
   "cell_type": "code",
   "execution_count": 85,
   "metadata": {},
   "outputs": [
    {
     "name": "stdout",
     "output_type": "stream",
     "text": [
      "Third class died: 372\n",
      "Third class survived: 119\n",
      "Survival Ratio: 24.2%\n"
     ]
    }
   ],
   "source": [
    "thirdClassDead = df[(df[\"Pclass\"] == 3) & (df[\"Survived\"] == 0)]\n",
    "thirdClassAlive = df[(df[\"Pclass\"] == 3) & (df[\"Survived\"] == 1)]\n",
    "thirdClassSurvivalRatio = thirdClassAlive.shape[0]/thirdClass.shape[0]\n",
    "\n",
    "print(f\"Third class died: {thirdClassDead.shape[0]}\\nThird class survived: {thirdClassAlive.shape[0]}\\nSurvival Ratio: {toPercent(thirdClassSurvivalRatio)}%\")"
   ]
  },
  {
   "cell_type": "markdown",
   "metadata": {},
   "source": [
    "The higher the class the passenger is in, the higher the odd of surviving is. The result is not that surprising, as first class probably had earlier access to rescue boats.\n",
    "\n",
    "Buying a first class ticket earns you a 63% survivability probabilty. This value is reduced to sligthly under 50% (47.3%) for second class. Third class passengers only had a marginal survival odd, about 25% (24.2%).\n",
    "\n",
    "This \"criteria\" is a fast way to estimate the odds for a person of a given class to survive (scaled to an infinite amount of person as there will be some deviation observed for a small amout of people).\n",
    "\n",
    "It is also interesting to keep in mind that the sample for first and second class is way smaller than third class. "
   ]
  },
  {
   "cell_type": "code",
   "execution_count": 86,
   "metadata": {},
   "outputs": [
    {
     "data": {
      "text/plain": [
       "<BarContainer object of 9 artists>"
      ]
     },
     "execution_count": 86,
     "metadata": {},
     "output_type": "execute_result"
    },
    {
     "data": {
      "image/png": "[encoded data removed]",
      "text/plain": [
       "<Figure size 1080x360 with 1 Axes>"
      ]
     },
     "metadata": {
      "needs_background": "light"
     },
     "output_type": "display_data"
    }
   ],
   "source": [
    "\n",
    "values = [elem*100 for elem in [1,firstClassSurvivalRatio,1-firstClassSurvivalRatio, 1, secondClassSurvivalRatio, 1-secondClassSurvivalRatio, 1, thirdClassSurvivalRatio, 1-thirdClassSurvivalRatio]]\n",
    "\n",
    "plt.figure(figsize=(15, 5))\n",
    "plt.bar([\"1st Total\",\"1st Surviving\",\"1st Died\",\"2nd Total\",\"2nd Surviving\",\"2nd Died\",\"3rd Total\",\"3rd Surviving\",\"3rd Died\"], values)"
   ]
  },
  {
   "cell_type": "markdown",
   "metadata": {},
   "source": [
    "##### <u> Did gender influence the odd of surviving?</u>\n",
    "\n",
    "This question is indeed a bit more complex as a pure look at the gender may be missleading. Often:\n",
    "\n",
    "- kids (not matter the gender)\n",
    "- women \n",
    "\n",
    "have priority on the rescute boat. Therefore, the gender question will be treated in this category standalone and [later on while taking into account the age too.]()"
   ]
  },
  {
   "cell_type": "code",
   "execution_count": 87,
   "metadata": {},
   "outputs": [
    {
     "name": "stdout",
     "output_type": "stream",
     "text": [
      "Male passenger count: 577\n",
      "Male passenger ratio: 64.8%\n",
      "Male passenger survived: 109\n",
      "Male passenger dead: 468\n",
      "Male survival ratio: 18.9%\n",
      "\n",
      "Female passenger count: 314\n",
      "Female passenger ratio: 35.2%\n",
      "Female passenger survived: 233\n",
      "Female passenger dead: 81\n",
      "Female survival ratio: 74.2%\n"
     ]
    }
   ],
   "source": [
    "malePassengers = df[df.Sex == \"male\"]\n",
    "maleRatio = malePassengers.shape[0]/totalPassengers\n",
    "\n",
    "maleDead = df[(df[\"Sex\"] == \"male\") & (df[\"Survived\"] == 0)]\n",
    "maleAlive = df[(df[\"Sex\"] == \"male\") & (df[\"Survived\"] == 1)]\n",
    "maleSurvivalRatio = maleAlive.shape[0] / malePassengers.shape[0]\n",
    "\n",
    "femalePassengers = df[df.Sex == \"female\"]\n",
    "femaleRatio = femalePassengers.shape[0]/totalPassengers\n",
    "\n",
    "femaleDead = df[(df[\"Sex\"] == \"female\") & (df[\"Survived\"] == 0)]\n",
    "femaleAlive = df[(df[\"Sex\"] == \"female\") & (df[\"Survived\"] == 1)]\n",
    "femaleSurvivalRatio = femaleAlive.shape[0] / femalePassengers.shape[0]\n",
    "\n",
    "print(f\"Male passenger count: {malePassengers.shape[0]}\\n\\\n",
    "Male passenger ratio: {toPercent(maleRatio)}%\\n\\\n",
    "Male passenger survived: {maleAlive.shape[0]}\\n\\\n",
    "Male passenger dead: {maleDead.shape[0]}\\n\\\n",
    "Male survival ratio: {toPercent(maleSurvivalRatio)}%\\n\\n\\\n",
    "\\\n",
    "Female passenger count: {femalePassengers.shape[0]}\\n\\\n",
    "Female passenger ratio: {toPercent(femaleRatio)}%\\n\\\n",
    "Female passenger survived: {femaleAlive.shape[0]}\\n\\\n",
    "Female passenger dead: {femaleDead.shape[0]}\\n\\\n",
    "Female survival ratio: {toPercent(femaleSurvivalRatio)}%\")"
   ]
  },
  {
   "cell_type": "markdown",
   "metadata": {},
   "source": [
    "From that data, we see that:\n",
    "\n",
    "1) There were more men than women on board of the titanic (irrelevant for prediction)\n",
    "2) Way less men survived (19%) compared to women (74%). Those numbers show that women indeed probably got saved from the titanic before men, regardless of their class.\n",
    "\n",
    "From this point on, there is an obvious question. Where the \"rare\" saved mens children, rich people or just random people who got a place on a rescue boat?"
   ]
  },
  {
   "cell_type": "code",
   "execution_count": 88,
   "metadata": {},
   "outputs": [
    {
     "data": {
      "text/plain": [
       "<BarContainer object of 6 artists>"
      ]
     },
     "execution_count": 88,
     "metadata": {},
     "output_type": "execute_result"
    },
    {
     "data": {
      "image/png": "[encoded data removed]",
      "text/plain": [
       "<Figure size 1080x360 with 1 Axes>"
      ]
     },
     "metadata": {
      "needs_background": "light"
     },
     "output_type": "display_data"
    }
   ],
   "source": [
    "values = [elem*100 for elem in [1,1-maleSurvivalRatio,maleSurvivalRatio, 1, 1-femaleSurvivalRatio, femaleSurvivalRatio]]\n",
    "\n",
    "plt.figure(figsize=(15, 5))\n",
    "plt.bar([\"Male Total\",\"Male Dead\",\"Male Surviving\",\"Female Total\",\"Female Dead\",\"Female Surviving\"], values)"
   ]
  },
  {
   "cell_type": "markdown",
   "metadata": {},
   "source": [
    "##### <u> Does the age of a passenger influence its survival odd?</u>\n",
    "\n",
    "Similar to the gender, children and women had priority. Therefore, among the \"small\" amount of male individuals who survived, were those rather kids or adults (for example rich people -> will be analysed later on).\n"
   ]
  },
  {
   "cell_type": "code",
   "execution_count": 89,
   "metadata": {},
   "outputs": [
    {
     "name": "stdout",
     "output_type": "stream",
     "text": [
      "No age given for 177 passengers. Only given for 714\n"
     ]
    }
   ],
   "source": [
    "# Missing age information\n",
    "noAgesGiven = df[df.Age.isnull()]\n",
    "\n",
    "print(f\"No age given for {noAgesGiven.shape[0]} passengers. Only given for {df.shape[0]-noAgesGiven.shape[0]}\")"
   ]
  },
  {
   "cell_type": "markdown",
   "metadata": {},
   "source": [
    "All passengers:"
   ]
  },
  {
   "cell_type": "code",
   "execution_count": 90,
   "metadata": {},
   "outputs": [],
   "source": [
    "# No matter dead or alive\n",
    "agesMixed = df[\"Age\"].unique()\n",
    "agesMixed = agesMixed[~np.isnan(agesMixed)]\n",
    "counterMixed = [df[df.Age == val].shape[0] for val in agesMixed]\n",
    "\n",
    "ageMales = malePassengers[\"Age\"].unique()\n",
    "ageMales = ageMales[~np.isnan(ageMales)]\n",
    "counterMale = [df[(df[\"Age\"] == val) & (df[\"Sex\"] == \"male\")].shape[0] for val in ageMales]\n",
    "\n",
    "ageFemale = femalePassengers[\"Age\"].unique()\n",
    "ageFemale = ageFemale[~np.isnan(ageFemale)]\n",
    "counterFemale = [df[(df[\"Age\"] == val) & (df[\"Sex\"] == \"female\")].shape[0] for val in ageFemale]"
   ]
  },
  {
   "cell_type": "code",
   "execution_count": 91,
   "metadata": {},
   "outputs": [
    {
     "data": {
      "text/plain": [
       "Text(0.5, 1.0, 'Females')"
      ]
     },
     "execution_count": 91,
     "metadata": {},
     "output_type": "execute_result"
    },
    {
     "data": {
      "image/png": "[encoded data removed]",
      "text/plain": [
       "<Figure size 1728x360 with 3 Axes>"
      ]
     },
     "metadata": {
      "needs_background": "light"
     },
     "output_type": "display_data"
    }
   ],
   "source": [
    "plt.figure(figsize=(24, 5))\n",
    "plt.subplot(131)\n",
    "plt.bar(agesMixed, counterMixed)\n",
    "plt.title(\"Mixed genders\")\n",
    "plt.subplot(132)\n",
    "plt.bar(ageMales, counterMale)\n",
    "plt.title(\"Males\")\n",
    "plt.subplot(133)\n",
    "plt.bar(ageFemale, counterFemale)\n",
    "plt.title(\"Females\")"
   ]
  },
  {
   "cell_type": "markdown",
   "metadata": {},
   "source": [
    "Dead passengers only:"
   ]
  },
  {
   "cell_type": "code",
   "execution_count": 92,
   "metadata": {},
   "outputs": [],
   "source": [
    "# Dead only\n",
    "deads = df[df.Survived == 0]\n",
    "agesMixedDead = deads[\"Age\"].unique()\n",
    "agesMixedDead = agesMixedDead[~np.isnan(agesMixedDead)]\n",
    "counterMixedDead = [deads[deads.Age == val].shape[0] for val in agesMixedDead]\n",
    "\n",
    "deadMales = df[(df.Survived == 0) & (df.Sex == \"male\")]\n",
    "ageMalesDead = deadMales[\"Age\"].unique()\n",
    "ageMalesDead = ageMalesDead[~np.isnan(ageMalesDead)]\n",
    "counterMaleDead = [deads[(deads[\"Age\"] == val) & (deads[\"Sex\"] == \"male\")].shape[0] for val in ageMalesDead]\n",
    "\n",
    "deadFemales = df[(df.Survived == 0) & (df.Sex == \"female\")]\n",
    "ageFemaleDead = deadFemales[\"Age\"].unique()\n",
    "ageFemaleDead = ageFemaleDead[~np.isnan(ageFemaleDead)]\n",
    "counterFemaleDead = [deads[(deads[\"Age\"] == val) & (deads[\"Sex\"] == \"female\")].shape[0] for val in ageFemaleDead]"
   ]
  },
  {
   "cell_type": "code",
   "execution_count": 93,
   "metadata": {},
   "outputs": [
    {
     "data": {
      "text/plain": [
       "Text(0.5, 1.0, 'Females')"
      ]
     },
     "execution_count": 93,
     "metadata": {},
     "output_type": "execute_result"
    },
    {
     "data": {
      "image/png": "[encoded data removed]",
      "text/plain": [
       "<Figure size 1728x360 with 3 Axes>"
      ]
     },
     "metadata": {
      "needs_background": "light"
     },
     "output_type": "display_data"
    }
   ],
   "source": [
    "plt.figure(figsize=(24, 5))\n",
    "plt.subplot(131)\n",
    "plt.bar(agesMixedDead, counterMixedDead)\n",
    "plt.title(\"Mixed genders\")\n",
    "plt.subplot(132)\n",
    "plt.bar(ageMalesDead, counterMaleDead)\n",
    "plt.title(\"Males\")\n",
    "plt.subplot(133)\n",
    "plt.bar(ageFemaleDead, counterFemaleDead)\n",
    "plt.title(\"Females\")"
   ]
  },
  {
   "cell_type": "markdown",
   "metadata": {},
   "source": [
    "Alive passengers only:"
   ]
  },
  {
   "cell_type": "code",
   "execution_count": 94,
   "metadata": {},
   "outputs": [],
   "source": [
    "# Alive only\n",
    "alive = df[df.Survived == 1]\n",
    "agesMixedAlive = alive[\"Age\"].unique()\n",
    "agesMixedAlive = agesMixedAlive[~np.isnan(agesMixedAlive)]\n",
    "counterMixedAlive = [alive[alive.Age == val].shape[0] for val in agesMixedAlive]\n",
    "\n",
    "aliveMales = df[(df.Survived == 0) & (df.Sex == \"male\")]\n",
    "ageMalesAlive = aliveMales[\"Age\"].unique()\n",
    "ageMalesAlive = ageMalesAlive[~np.isnan(ageMalesAlive)]\n",
    "counterMaleAlive = [alive[(alive[\"Age\"] == val) & (alive[\"Sex\"] == \"male\")].shape[0] for val in ageMalesAlive]\n",
    "\n",
    "aliveFemales = df[(df.Survived == 0) & (df.Sex == \"female\")]\n",
    "ageFemaleAlive = aliveFemales[\"Age\"].unique()\n",
    "ageFemaleAlive = ageFemaleAlive[~np.isnan(ageFemaleAlive)]\n",
    "counterFemaleAlive = [alive[(alive[\"Age\"] == val) & (alive[\"Sex\"] == \"female\")].shape[0] for val in ageFemaleAlive]"
   ]
  },
  {
   "cell_type": "code",
   "execution_count": 95,
   "metadata": {},
   "outputs": [
    {
     "data": {
      "text/plain": [
       "Text(0.5, 1.0, 'Females')"
      ]
     },
     "execution_count": 95,
     "metadata": {},
     "output_type": "execute_result"
    },
    {
     "data": {
      "image/png": "[encoded data removed]",
      "text/plain": [
       "<Figure size 1728x360 with 3 Axes>"
      ]
     },
     "metadata": {
      "needs_background": "light"
     },
     "output_type": "display_data"
    }
   ],
   "source": [
    "plt.figure(figsize=(24, 5))\n",
    "plt.subplot(131)\n",
    "plt.bar(agesMixedAlive, counterMixedAlive)\n",
    "plt.title(\"Mixed genders\")\n",
    "plt.subplot(132)\n",
    "plt.bar(ageMalesAlive, counterMaleAlive)\n",
    "plt.title(\"Males\")\n",
    "plt.subplot(133)\n",
    "plt.bar(ageFemaleAlive, counterFemaleAlive)\n",
    "plt.title(\"Females\")"
   ]
  },
  {
   "cell_type": "markdown",
   "metadata": {},
   "source": [
    "Now that we have seen the age repartition for male and female survivors/deads, let's analyse the survival rate per \"age category\":\n",
    "- Children (0 -> 13)\n",
    "- Teenagers (14 -> 18)\n",
    "- Adults(18 -> 60)\n",
    "- Senior Citizen (60 -> inf)"
   ]
  },
  {
   "cell_type": "code",
   "execution_count": 96,
   "metadata": {},
   "outputs": [],
   "source": [
    "childrens = df[(df.Age <= 13)]\n",
    "teenagers = df[(df.Age >= 14) & (df.Age < 18)]\n",
    "adults = df[(df.Age >= 18) & (df.Age <= 60)]\n",
    "seniors = df[(df.Age >= 61)]\n",
    "\n",
    "childrenAlive = childrens[childrens.Survived == 1]\n",
    "childrenDead = childrens[childrens.Survived == 0]\n",
    "\n",
    "teenagersAlive = teenagers[teenagers.Survived == 1]\n",
    "teenagersDead = teenagers[teenagers.Survived == 0]\n",
    "\n",
    "adultsAlive = adults[adults.Survived == 1]\n",
    "adultsDead = adults[adults.Survived == 0]\n",
    "\n",
    "seniorsAlive = seniors[seniors.Survived == 1]\n",
    "seniorsDead = seniors[seniors.Survived == 0]"
   ]
  },
  {
   "cell_type": "code",
   "execution_count": 97,
   "metadata": {},
   "outputs": [
    {
     "name": "stdout",
     "output_type": "stream",
     "text": [
      "Children count: 71\n",
      "Teenager count: 42\n",
      "Adult count: 579\n",
      "Senior count: 22\n",
      "\n",
      "Children survival: 42\n",
      "Children dead: 29\n",
      "Teenagers survival: 19\n",
      "Teenagers dead: 23\n",
      "Adults survival: 224\n",
      "Adults dead: 355\n",
      "Senior survival: 5\n",
      "Senior dead: 17\n",
      "\n"
     ]
    }
   ],
   "source": [
    "print(f\"Children count: {childrens.shape[0]}\\nTeenager count: {teenagers.shape[0]}\\nAdult count: {adults.shape[0]}\\nSenior count: {seniors.shape[0]}\\n\")\n",
    "\n",
    "print(f\"\\\n",
    "Children survival: {childrenAlive.shape[0]}\\n\\\n",
    "Children dead: {childrenDead.shape[0]}\\n\\\n",
    "Teenagers survival: {teenagersAlive.shape[0]}\\n\\\n",
    "Teenagers dead: {teenagersDead.shape[0]}\\n\\\n",
    "Adults survival: {adultsAlive.shape[0]}\\n\\\n",
    "Adults dead: {adultsDead.shape[0]}\\n\\\n",
    "Senior survival: {seniorsAlive.shape[0]}\\n\\\n",
    "Senior dead: {seniorsDead.shape[0]}\\n\")"
   ]
  },
  {
   "cell_type": "code",
   "execution_count": 101,
   "metadata": {},
   "outputs": [
    {
     "data": {
      "text/plain": [
       "<BarContainer object of 4 artists>"
      ]
     },
     "execution_count": 101,
     "metadata": {},
     "output_type": "execute_result"
    },
    {
     "data": {
      "image/png": "[encoded data removed]",
      "text/plain": [
       "<Figure size 720x360 with 1 Axes>"
      ]
     },
     "metadata": {
      "needs_background": "light"
     },
     "output_type": "display_data"
    }
   ],
   "source": [
    "plt.figure(figsize=(10, 5))\n",
    "plt.title(\"Age group repartition (Alive and dead)\")\n",
    "plt.bar([\"Children\",\"Teenager\",\"Adults\",\"Seniors\"], [childrens.shape[0],teenagers.shape[0],adults.shape[0],seniors.shape[0]])"
   ]
  },
  {
   "cell_type": "code",
   "execution_count": 99,
   "metadata": {},
   "outputs": [
    {
     "data": {
      "text/plain": [
       "<BarContainer object of 8 artists>"
      ]
     },
     "execution_count": 99,
     "metadata": {},
     "output_type": "execute_result"
    },
    {
     "data": {
      "image/png": "[encoded data removed]",
      "text/plain": [
       "<Figure size 1080x360 with 1 Axes>"
      ]
     },
     "metadata": {
      "needs_background": "light"
     },
     "output_type": "display_data"
    }
   ],
   "source": [
    "categories = [\"Children Alive\",\"Children Dead\",\"Teenager Alive\",\"Teenager Dead\",\"Adults Alive\",\"Adults Dead\",\"Seniors Alive\",\"Seniors Dead\"]\n",
    "values = [childrenAlive.shape[0],childrenDead.shape[0],teenagersAlive.shape[0],teenagersDead.shape[0],adultsAlive.shape[0],adultsDead.shape[0],seniorsAlive.shape[0],seniorsDead.shape[0]]\n",
    "\n",
    "plt.figure(figsize=(15, 5))\n",
    "plt.title(\"Age group survival repartition\")\n",
    "plt.bar(categories, values)"
   ]
  },
  {
   "cell_type": "code",
   "execution_count": 100,
   "metadata": {},
   "outputs": [
    {
     "data": {
      "text/plain": [
       "<BarContainer object of 8 artists>"
      ]
     },
     "execution_count": 100,
     "metadata": {},
     "output_type": "execute_result"
    },
    {
     "data": {
      "image/png": "[encoded data removed]",
      "text/plain": [
       "<Figure size 1080x360 with 1 Axes>"
      ]
     },
     "metadata": {
      "needs_background": "light"
     },
     "output_type": "display_data"
    }
   ],
   "source": [
    "valuesPercent = [\n",
    "    toPercent(childrenAlive.shape[0]/childrens.shape[0]),\n",
    "    toPercent(childrenDead.shape[0]/childrens.shape[0]),\n",
    "    toPercent(teenagersAlive.shape[0]/teenagers.shape[0]),\n",
    "    toPercent(teenagersDead.shape[0]/teenagers.shape[0]),\n",
    "    toPercent(adultsAlive.shape[0]/adults.shape[0]),\n",
    "    toPercent(adultsDead.shape[0]/adults.shape[0]),\n",
    "    toPercent(seniorsAlive.shape[0]/seniors.shape[0]),\n",
    "    toPercent(seniorsDead.shape[0]/seniors.shape[0])\n",
    "]\n",
    "\n",
    "plt.figure(figsize=(15, 5))\n",
    "plt.title(\"Age group survival repartition in %\")\n",
    "plt.bar(categories, valuesPercent)"
   ]
  },
  {
   "cell_type": "markdown",
   "metadata": {},
   "source": [
    "Lastly it would be interesting to determine the gender of surviving adults:"
   ]
  },
  {
   "cell_type": "code",
   "execution_count": 108,
   "metadata": {},
   "outputs": [
    {
     "name": "stdout",
     "output_type": "stream",
     "text": [
      "Male adults alive: 68\n",
      "Male adults dead: 308\n",
      "Female adults alive: 156\n",
      "Female adults dead: 47\n",
      "\n",
      "Male total: 376\n",
      "Female total: 203\n"
     ]
    }
   ],
   "source": [
    "adultsMaleAlive = adultsAlive[adultsAlive.Sex == \"male\"]\n",
    "adultsMaleDead = adultsDead[adultsDead.Sex == \"male\"]\n",
    "adultsMale = adults[adults.Sex == \"male\"]\n",
    "\n",
    "adultsFemaleAlive = adultsAlive[adultsAlive.Sex == \"female\"]\n",
    "adultsFemaleDead = adultsDead[adultsDead.Sex == \"female\"]\n",
    "adultsFemale = adults[adults.Sex == \"female\"]\n",
    "\n",
    "print(f\"Male adults alive: {adultsMaleAlive.shape[0]}\\nMale adults dead: {adultsMaleDead.shape[0]}\\nFemale adults alive: {adultsFemaleAlive.shape[0]}\\nFemale adults dead: {adultsFemaleDead.shape[0]}\")\n",
    "print(f\"\\nMale total: {adultsMale.shape[0]}\\nFemale total: {adultsFemale.shape[0]}\")"
   ]
  },
  {
   "cell_type": "code",
   "execution_count": 109,
   "metadata": {},
   "outputs": [
    {
     "data": {
      "text/plain": [
       "<BarContainer object of 4 artists>"
      ]
     },
     "execution_count": 109,
     "metadata": {},
     "output_type": "execute_result"
    },
    {
     "data": {
      "image/png": "[encoded data removed]",
      "text/plain": [
       "<Figure size 1080x360 with 1 Axes>"
      ]
     },
     "metadata": {
      "needs_background": "light"
     },
     "output_type": "display_data"
    }
   ],
   "source": [
    "values = [toPercent(adultsMaleAlive.shape[0]/adultsMale.shape[0]),toPercent(adultsMaleDead.shape[0]/adultsMale.shape[0]),toPercent(adultsFemaleAlive.shape[0]/adultsFemale.shape[0]),toPercent(adultsFemaleDead.shape[0]/adultsFemale.shape[0])]\n",
    "categories = [\"Adult Male Alive\",\"Adult Male Dead\",\"Adult Female Alive\",\"Adult Female Dead\"]\n",
    "\n",
    "plt.figure(figsize=(15, 5))\n",
    "plt.title(\"Gender and survival repartition for adults\")\n",
    "plt.bar(categories, values)"
   ]
  },
  {
   "cell_type": "markdown",
   "metadata": {},
   "source": [
    "#### <u>Did children realy have priority?</u>\n",
    "\n",
    "The results are very interesting as they don't realy meet the expectations I had: (no age data available for 177 passengers)\n",
    "\n",
    "- Male passengers did survive from all ages, allthough I expected mostly kids, with some rare cases of adults (rich persons) to survive.\n",
    "\n"
   ]
  }
 ],
 "metadata": {
  "kernelspec": {
   "display_name": "Python 3.8.1 64-bit",
   "language": "python",
   "name": "python3"
  },
  "language_info": {
   "codemirror_mode": {
    "name": "ipython",
    "version": 3
   },
   "file_extension": ".py",
   "mimetype": "text/x-python",
   "name": "python",
   "nbconvert_exporter": "python",
   "pygments_lexer": "ipython3",
   "version": "3.8.1"
  },
  "orig_nbformat": 4,
  "vscode": {
   "interpreter": {
    "hash": "52634da84371cba311ea128a5ea7cdc41ff074b781779e754b270ff9f8153cee"
   }
  }
 },
 "nbformat": 4,
 "nbformat_minor": 2
}
